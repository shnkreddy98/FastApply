{
 "cells": [
  {
   "cell_type": "code",
   "execution_count": 1,
   "metadata": {},
   "outputs": [],
   "source": [
    "import sqlite3\n",
    "con = sqlite3.connect(\"/Users/reddy/Documents/GitHub/ResumeBuilder/ResumeBuilder/dbs/ResumeBuilder.db\")\n",
    "con.execute('PRAGMA foreign_keys = ON;')\n",
    "cur = con.cursor()"
   ]
  },
  {
   "cell_type": "code",
   "execution_count": null,
   "metadata": {},
   "outputs": [],
   "source": [
    "\n",
    "cur.execute(\"\"\"CREATE TABLE IF NOT EXISTS user (\n",
    "                user_name VARCHAR(255),\n",
    "                user_email VARCHAR(255) PRIMARY KEY,\n",
    "                user_phone VARCHAR(20),\n",
    "                user_city VARCHAR(255),\n",
    "                user_linkedin_link VARCHAR(255),\n",
    "                user_summary TEXT,\n",
    "                user_skills TEXT);\n",
    "            \"\"\")\n",
    "\n",
    "cur.execute(\"\"\"CREATE TABLE IF NOT EXISTS work_exp (\n",
    "                work_exp_id INTEGER PRIMARY KEY,\n",
    "                work_exp_company VARCHAR(255),\n",
    "                work_exp_role VARCHAR(255),\n",
    "                work_exp_location VARCHAR(255),\n",
    "                work_exp_start_date DATE,\n",
    "                work_exp_end_date DATE,\n",
    "                work_exp_description TEXT,\n",
    "                user_id VARCHAR(255),\n",
    "                FOREIGN KEY(user_id) REFERENCES user(email_id) ON DELETE CASCADE);\n",
    "            \"\"\")\n",
    "\n",
    "cur.execute(\"\"\"CREATE TABLE IF NOT EXISTS project (\n",
    "                project_id INTEGER PRIMARY KEY,\n",
    "                project_name VARCHAR(255),\n",
    "                project_link VARCHAR(255),\n",
    "                project_start_date DATE,\n",
    "                project_end_date DATE,\n",
    "                project_description TEXT,\n",
    "                user_id VARCHAR(255),\n",
    "                FOREIGN KEY(user_id) REFERENCES user(email_id) ON DELETE CASCADE);\n",
    "            \"\"\")\n",
    "\n",
    "cur.execute(\"\"\"CREATE TABLE IF NOT EXISTS education (\n",
    "                education_id INTEGER PRIMARY KEY,\n",
    "                institution_name VARCHAR(255),\n",
    "                course VARCHAR(255),\n",
    "                education_start_date DATE,\n",
    "                education_end_date DATE,\n",
    "                user_id VARCHAR(255),\n",
    "                FOREIGN KEY(user_id) REFERENCES user(email_id) ON DELETE CASCADE);\n",
    "            \"\"\")\n",
    "\n",
    "cur.execute(\"\"\"CREATE TABLE IF NOT EXISTS jobs (\n",
    "                job_id INTEGER PRIMARY KEY,\n",
    "                job_link VARCHAR(255),\n",
    "                job_description TEXT,\n",
    "                hiring_manager_fn VARCHAR(255),\n",
    "                hiring_manager_ln VARCHAR(255),\n",
    "                generated_questions TEXT,\n",
    "                chatgpt_checkpoint TEXT,\n",
    "                user_id VARCHAR(255),\n",
    "                FOREIGN KEY(user_id) REFERENCES user(email_id) ON DELETE CASCADE);\n",
    "            \"\"\")"
   ]
  },
  {
   "cell_type": "code",
   "execution_count": null,
   "metadata": {},
   "outputs": [],
   "source": [
    "res = cur.execute(\"SELECT name FROM sqlite_master\")\n",
    "res.fetchall()"
   ]
  }
 ],
 "metadata": {
  "kernelspec": {
   "display_name": ".venv",
   "language": "python",
   "name": "python3"
  },
  "language_info": {
   "codemirror_mode": {
    "name": "ipython",
    "version": 3
   },
   "file_extension": ".py",
   "mimetype": "text/x-python",
   "name": "python",
   "nbconvert_exporter": "python",
   "pygments_lexer": "ipython3",
   "version": "3.10.16"
  }
 },
 "nbformat": 4,
 "nbformat_minor": 2
}
