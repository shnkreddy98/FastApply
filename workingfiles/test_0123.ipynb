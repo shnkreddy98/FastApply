{
 "cells": [
  {
   "cell_type": "code",
   "execution_count": 18,
   "metadata": {},
   "outputs": [],
   "source": [
    "import sqlite3\n",
    "\n",
    "con = sqlite3.connect(\"/Users/reddy/Documents/GitHub/FastApply/dbs/ResumeBuilder.db\")\n",
    "con.execute('PRAGMA foreign_keys = ON;')\n",
    "cur = con.cursor()"
   ]
  },
  {
   "cell_type": "code",
   "execution_count": 2,
   "metadata": {},
   "outputs": [
    {
     "data": {
      "text/plain": [
       "<sqlite3.Cursor at 0x1077fe6c0>"
      ]
     },
     "execution_count": 2,
     "metadata": {},
     "output_type": "execute_result"
    }
   ],
   "source": [
    "cur.execute(\"Select name FROM sqlite_master WHERE type='table';\")"
   ]
  },
  {
   "cell_type": "code",
   "execution_count": 3,
   "metadata": {},
   "outputs": [
    {
     "data": {
      "text/plain": [
       "[('user',),\n",
       " ('userskills',),\n",
       " ('workexp',),\n",
       " ('proj',),\n",
       " ('edu',),\n",
       " ('jobs',),\n",
       " ('companies',),\n",
       " ('hiringmanagers',)]"
      ]
     },
     "execution_count": 3,
     "metadata": {},
     "output_type": "execute_result"
    }
   ],
   "source": [
    "cur.fetchall()"
   ]
  },
  {
   "cell_type": "code",
   "execution_count": 5,
   "metadata": {},
   "outputs": [
    {
     "data": {
      "text/plain": [
       "[('303e96f80576360d0c7b07ae7528fa4b', 'Terraform', 'sreddy2095@gmail.com'),\n",
       " ('a7f5f35426b927411fc9231b56382173', 'Python', 'sreddy2095@gmail.com'),\n",
       " ('f6f87c9fdcf8b3c3f07f93f1ee8712c9', 'C++', 'sreddy2095@gmail.com'),\n",
       " ('e2ab7c65b21ed8cc1c3b642b5e36429e', 'S3', 'sreddy2095@gmail.com'),\n",
       " ('17e918efeeeb8f100c695e284d5c0a08', 'PySpark', 'sreddy2095@gmail.com')]"
      ]
     },
     "execution_count": 5,
     "metadata": {},
     "output_type": "execute_result"
    }
   ],
   "source": [
    "cur.execute(\"SELECT * FROM userskills\")\n",
    "cur.fetchall()"
   ]
  },
  {
   "cell_type": "code",
   "execution_count": 7,
   "metadata": {},
   "outputs": [
    {
     "data": {
      "text/plain": [
       "[('303e96f80576360d0c7b07ae7528fa4b', 'Terraform', 'sreddy2095@gmail.com'),\n",
       " ('a7f5f35426b927411fc9231b56382173', 'Python', 'sreddy2095@gmail.com'),\n",
       " ('f6f87c9fdcf8b3c3f07f93f1ee8712c9', 'C++', 'sreddy2095@gmail.com'),\n",
       " ('e2ab7c65b21ed8cc1c3b642b5e36429e', 'S3', 'sreddy2095@gmail.com'),\n",
       " ('17e918efeeeb8f100c695e284d5c0a08', 'PySpark', 'sreddy2095@gmail.com')]"
      ]
     },
     "execution_count": 7,
     "metadata": {},
     "output_type": "execute_result"
    }
   ],
   "source": [
    "cur.execute(\"SELECT * FROM userskills\")\n",
    "cur.fetchall()"
   ]
  },
  {
   "cell_type": "code",
   "execution_count": 35,
   "metadata": {},
   "outputs": [
    {
     "data": {
      "text/plain": [
       "'a06606018953ead8aeba5cfa78e38864'"
      ]
     },
     "execution_count": 35,
     "metadata": {},
     "output_type": "execute_result"
    }
   ],
   "source": [
    "import hashlib\n",
    "\n",
    "key = f\"\"\"{'Kantar',\n",
    "  'Data Engineer',\n",
    "  'Bengaluru',\n",
    "  '2020-04-01',\n",
    "  '2022-04-01',\n",
    "  '- description kantar',\n",
    "  'sreddy2095@gmail.com'}\"\"\"\n",
    "hashlib.md5(key.encode()).hexdigest()"
   ]
  },
  {
   "cell_type": "code",
   "execution_count": 33,
   "metadata": {},
   "outputs": [
    {
     "data": {
      "text/plain": [
       "'a06606018953ead8aeba5cfa78e38864'"
      ]
     },
     "execution_count": 33,
     "metadata": {},
     "output_type": "execute_result"
    }
   ],
   "source": [
    "hashlib.md5(key.encode()).hexdigest()"
   ]
  },
  {
   "cell_type": "code",
   "execution_count": 29,
   "metadata": {},
   "outputs": [],
   "source": [
    "hash_key = \"303e96f80576360d0c7b07ae7528fa4b\"\n",
    "cur.execute(f\"SELECT * FROM userskills WHERE skill_id = '{hash_key}'\")\n",
    "exists = cur.fetchall()\n"
   ]
  },
  {
   "cell_type": "markdown",
   "metadata": {},
   "source": []
  },
  {
   "cell_type": "code",
   "execution_count": 32,
   "metadata": {},
   "outputs": [
    {
     "name": "stdout",
     "output_type": "stream",
     "text": [
      "yes\n"
     ]
    }
   ],
   "source": [
    "if exists:\n",
    "    print('yes')"
   ]
  },
  {
   "cell_type": "code",
   "execution_count": 31,
   "metadata": {},
   "outputs": [
    {
     "data": {
      "text/plain": [
       "[('303e96f80576360d0c7b07ae7528fa4b', 'Terraform', 'sreddy2095@gmail.com')]"
      ]
     },
     "execution_count": 31,
     "metadata": {},
     "output_type": "execute_result"
    }
   ],
   "source": [
    "if exists"
   ]
  },
  {
   "cell_type": "code",
   "execution_count": 1,
   "metadata": {},
   "outputs": [],
   "source": [
    "import sqlite3\n",
    "\n",
    "db_path = \"../dbs/ResumeBuilder.db\"\n",
    "\n",
    "con = sqlite3.connect(db_path)\n",
    "cur = con.cursor()"
   ]
  },
  {
   "cell_type": "code",
   "execution_count": 2,
   "metadata": {},
   "outputs": [
    {
     "data": {
      "text/plain": [
       "<sqlite3.Cursor at 0x1063be6c0>"
      ]
     },
     "execution_count": 2,
     "metadata": {},
     "output_type": "execute_result"
    }
   ],
   "source": [
    "cur.execute(\"Select name FROM sqlite_master WHERE type='table';\")"
   ]
  },
  {
   "cell_type": "code",
   "execution_count": 3,
   "metadata": {},
   "outputs": [
    {
     "name": "stdout",
     "output_type": "stream",
     "text": [
      "('user',)\n",
      "('userskills',)\n",
      "('workexp',)\n",
      "('proj',)\n",
      "('edu',)\n",
      "('jobs',)\n",
      "('companies',)\n",
      "('hiringmanagers',)\n"
     ]
    }
   ],
   "source": [
    "for table in cur.fetchall():\n",
    "    print(table)"
   ]
  },
  {
   "cell_type": "code",
   "execution_count": 4,
   "metadata": {},
   "outputs": [
    {
     "data": {
      "text/plain": [
       "[('shashankshashishekharreddy@gmail.com',\n",
       "  'Shashank Shashishekhar Reddy',\n",
       "  '5108927191',\n",
       "  'San Jose, CA',\n",
       "  'https://www.linkedin.com/in/shnkreddy',\n",
       "  'https://www.github.com/shnkreddy98',\n",
       "  '',\n",
       "  1)]"
      ]
     },
     "execution_count": 4,
     "metadata": {},
     "output_type": "execute_result"
    }
   ],
   "source": [
    "cur.execute(\"SELECT * FROM user\")\n",
    "cur.fetchall()"
   ]
  },
  {
   "cell_type": "code",
   "execution_count": null,
   "metadata": {},
   "outputs": [],
   "source": []
  }
 ],
 "metadata": {
  "kernelspec": {
   "display_name": ".venv",
   "language": "python",
   "name": "python3"
  },
  "language_info": {
   "codemirror_mode": {
    "name": "ipython",
    "version": 3
   },
   "file_extension": ".py",
   "mimetype": "text/x-python",
   "name": "python",
   "nbconvert_exporter": "python",
   "pygments_lexer": "ipython3",
   "version": "3.10.16"
  }
 },
 "nbformat": 4,
 "nbformat_minor": 2
}
