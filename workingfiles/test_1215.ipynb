{
 "cells": [
  {
   "cell_type": "code",
   "execution_count": 2,
   "metadata": {},
   "outputs": [],
   "source": [
    "import os\n",
    "from docx import Document"
   ]
  },
  {
   "cell_type": "code",
   "execution_count": 4,
   "metadata": {},
   "outputs": [
    {
     "data": {
      "text/plain": [
       "'/Users/reddy/Documents/GitHub/ResumeBuilder/workingfiles'"
      ]
     },
     "execution_count": 4,
     "metadata": {},
     "output_type": "execute_result"
    }
   ],
   "source": [
    "os.getcwd()"
   ]
  },
  {
   "cell_type": "code",
   "execution_count": 5,
   "metadata": {},
   "outputs": [
    {
     "name": "stdout",
     "output_type": "stream",
     "text": [
      "<docx.document.Document object at 0x1045b74d0>\n"
     ]
    }
   ],
   "source": [
    "\n",
    "\n",
    "resume = Document(SOURCEFILE)\n",
    "print(resume)"
   ]
  },
  {
   "cell_type": "code",
   "execution_count": null,
   "metadata": {},
   "outputs": [],
   "source": []
  },
  {
   "cell_type": "code",
   "execution_count": 27,
   "metadata": {},
   "outputs": [],
   "source": []
  },
  {
   "cell_type": "code",
   "execution_count": 111,
   "metadata": {},
   "outputs": [],
   "source": [
    "from docx import Document\n",
    "import re\n",
    "\n",
    "class parseDocument():\n",
    "\n",
    "    def __init__(self):\n",
    "        pass\n",
    "\n",
    "    def read_file(documentfilename):\n",
    "        \"\"\"\n",
    "        Input: Path to the directory in which resume resides or the Path to the docx file itself\n",
    "        Output: Text version of the resume\n",
    "        Function: Extracts data from word file\n",
    "        \"\"\"\n",
    "        print(f\"Reading file from {documentfilename}\")\n",
    "        document = Document(documentfilename)\n",
    "        # text = ''\n",
    "        # for paragraph in document.paragraphs:\n",
    "        #     text += (f\"\\n {paragraph.text}\")\n",
    "        return document\n",
    "    \n",
    "    def save_file(document, filename=\"ResumeBuilder/output/shashankreddy.docx\"):\n",
    "        \"\"\"\n",
    "        Input: String value of Job description\n",
    "        Output: \n",
    "        Function: Saves text/str data to word document\n",
    "        \"\"\"\n",
    "        document.save(filename)\n",
    "        print(f\"Resume Saved at {filename}\")\n",
    "\n",
    "    import re\n",
    "from docx import Document\n",
    "from datetime import datetime\n",
    "\n",
    "def extract_details(docx_file):\n",
    "    doc = Document(docx_file)\n",
    "    data = {\n",
    "        \"name\": \"\",\n",
    "        \"location\": \"\",\n",
    "        \"email\": \"\",\n",
    "        \"phone\": \"\",\n",
    "        \"summary\": \"\",\n",
    "        \"work_experience\": [],\n",
    "        \"skills\": \"\",\n",
    "        \"projects\": [],\n",
    "        \"education\": []\n",
    "    }\n",
    "    \n",
    "    content = [p.text.strip() for p in doc.paragraphs if p.text.strip()]\n",
    "    \n",
    "    # Extract Name (First line assumed to be name)\n",
    "    data[\"name\"] = content[0]\n",
    "    \n",
    "    # Extract Contact Details (Assuming it is in the second line)\n",
    "    contact_line = content[1]\n",
    "    data[\"location\"] = re.search(r'^[^|]+', contact_line).group().strip()\n",
    "    data[\"email\"] = re.search(r'\\b[A-Za-z0-9._%+-]+@[A-Za-z0-9.-]+\\.[A-Z|a-z]{2,}\\b', contact_line).group()\n",
    "    data[\"phone\"] = re.search(r'\\(?\\d{3}\\)?[-.\\s]?\\d{3}[-.\\s]?\\d{4}', contact_line).group()\n",
    "    \n",
    "    # Section identifiers\n",
    "    current_section = None\n",
    "    for line in content[2:]:\n",
    "        if line.lower().startswith(\"summary\"):\n",
    "            current_section = \"summary\"\n",
    "        elif line.lower().startswith(\"work experience\"):\n",
    "            current_section = \"work_experience\"\n",
    "        elif line.lower().startswith(\"skills\"):\n",
    "            current_section = \"skills\"\n",
    "        elif line.lower().startswith(\"academic projects\"):\n",
    "            current_section = \"projects\"\n",
    "        elif line.lower().startswith(\"education\"):\n",
    "            current_section = \"education\"\n",
    "        elif current_section == \"summary\":\n",
    "            data[\"summary\"] += line + \" \"\n",
    "        elif current_section == \"work_experience\":\n",
    "            # Extract company, role, and dates (MMM-YYYY format)\n",
    "            match = re.match(r'^(.*?)\\s*\\|\\s*(.*?)\\s*\\|\\s*.*?(\\w{3}\\s\\d{4})\\s+[–-]\\s+(\\w{3}\\s\\d{4})$', line)\n",
    "            if match:\n",
    "                company, role, start_date, end_date = match.groups()\n",
    "                data[\"work_experience\"].append({\n",
    "                    \"company\": company.strip(),\n",
    "                    \"role\": role.strip(),\n",
    "                    \"start_date\": format_date(start_date),\n",
    "                    \"end_date\": format_date(end_date),\n",
    "                    \"description\": \"\"\n",
    "                })\n",
    "            else:\n",
    "                if data[\"work_experience\"]:\n",
    "                        data[\"work_experience\"][-1][\"description\"] = data[\"work_experience\"][-1].get(\"description\", \"\") + line + \" \"\n",
    "        elif current_section == \"skills\":\n",
    "            data[\"skills\"] += line + \" \"\n",
    "        elif current_section == \"projects\":\n",
    "            # Extract project details (MMM-YYYY format)\n",
    "            match = re.match(r'^(.*?)\\s*\\|\\s*.*?(\\w{3}\\s\\d{4})\\s+[–-]\\s+(\\w{3}\\s\\d{4})$', line)\n",
    "            if match:\n",
    "                project_name, start_date, end_date = match.groups()\n",
    "                data[\"projects\"].append({\n",
    "                    \"project_name\": project_name.strip(),\n",
    "                    \"start_date\": format_date(start_date),\n",
    "                    \"end_date\": format_date(end_date),\n",
    "                    \"description\": \"\"\n",
    "                })\n",
    "            else:\n",
    "                if data[\"projects\"]:\n",
    "                    data[\"projects\"][-1][\"description\"] += line + \" \"\n",
    "        elif current_section == \"education\":\n",
    "            # Extract education details (MMM-YYYY format)\n",
    "            match = re.match(r'^(.*?)\\s*\\|\\s*(.*?)\\s+(\\w{3}\\s\\d{4})\\s+[–-]\\s+(\\w{3}\\s\\d{4})$', line)\n",
    "            if match:\n",
    "                course, institution, start_date, end_date = match.groups()\n",
    "                data[\"education\"].append({\n",
    "                    \"course\": course.strip(),\n",
    "                    \"institution\": institution.strip(),\n",
    "                    \"start_date\": format_date(start_date),\n",
    "                    \"end_date\": format_date(end_date)\n",
    "                })\n",
    "    \n",
    "    # Clean up trailing spaces\n",
    "    data[\"summary\"] = data[\"summary\"].strip()\n",
    "    data[\"skills\"] = data[\"skills\"].strip()\n",
    "    return data\n",
    "\n",
    "def format_date(date_str):\n",
    "    try:\n",
    "        return datetime.strptime(date_str, \"%b-%Y\").date()\n",
    "    except ValueError:\n",
    "        return None\n"
   ]
  },
  {
   "cell_type": "code",
   "execution_count": 112,
   "metadata": {},
   "outputs": [],
   "source": [
    "# Example Usage\n",
    "SOURCEFILE = \"../ResumeBuilder/inputs/template.docx\"\n",
    "docx_file = SOURCEFILE\n",
    "details = extract_details(docx_file)"
   ]
  },
  {
   "cell_type": "code",
   "execution_count": 113,
   "metadata": {},
   "outputs": [
    {
     "name": "stdout",
     "output_type": "stream",
     "text": [
      "{'name': 'Shashank Shashishekhar Reddy', 'location': 'San Jose, California', 'email': 'shashankshashishekharreddy@gmail.com', 'phone': '(510) 892-7191', 'summary': 'Data Engineer with hands-on experience with designing, developing and maintaining Extract, Transform and Load (ETL) pipelines coming from diverse data sources, and creating dashboards tailored to end-user or team requirements, facilitating data-driven decision-making, and ensuring proficiency in version control and data lifecycle management.', 'work_experience': [{'company': 'Data Engineer', 'role': 'Kantar', 'start_date': None, 'end_date': None, 'description': 'Built data pipelines with Apache Airflow and Spark to collect ads and sales data, storing it in an Amazon S3 data lake. Used Apache Spark for data transformation and enrichment, ensuring reliability with schema validation and error handling. Implemented data quality checks to maintain integrity throughout ingestion, transformation, and storage phases. Performed EDA and created visualizations in Tableau and Excel to identify patterns, boosting holiday sales by 12%. Designed ROI models to increase sales by 34% by optimizing ad spend on high-performing channels. Mentored two junior team members, improving team productivity and meeting deadlines with positive stakeholder feedback. '}, {'company': 'Data Engineer', 'role': 'The Sparks Foundation', 'start_date': None, 'end_date': None, 'description': 'Engineered robust ETL pipelines to manage and process large volumes of data from multiple sources, enhancing data integration by 25%. Collaborated with cross-functional teams to optimize database performance, reducing data retrieval times by 30%. Designed and implemented data quality checks to ensure accuracy and reliability, significantly minimizing data discrepancies. Automated data transformation processes using Python and SQL, decreasing manual intervention by 40%. Developed dashboards and visualizations to track data metrics, providing real-time insights for stakeholders. '}, {'company': 'Data Engineer Intern', 'role': 'The Sparks Foundation', 'start_date': None, 'end_date': None, 'description': 'Supported the development of ETL processes, contributing to the seamless integration of new data sources. Conducted data analysis to identify patterns and trends, informing decision-making across departments. Assisted in optimizing SQL queries to improve data extraction efficiency, achieving a 20% reduction in processing time. Created scripts for automated data cleaning, enhancing data quality and accuracy. '}], 'skills': 'Certificates: AWS Cloud Practitioner | Validation Code: QD8E074C82EQ1WCE Programming Languages: C, C++, Java, Python, R, SQL, Bash, JavaScript Cloud Services: AWS (EC2, S3, Lambda, Glue, Amazon S3, Amazon Redshift), GCP, Azure Databases: MySQL, MongoDB, PostgreSQL, RDS, Elasticsearch. Tools: Hadoop, Sqoop, Hive, PySpark, Flume, Airflow, Kafka, Pandas, Scikit-Learn, Keras, PyTorch, Docker, Terraform.', 'projects': [{'project_name': 'Your Own Cabs Analysis', 'start_date': None, 'end_date': None, 'description': 'Built data pipelines to analyze booking and clickstream data using Kafka, Spark, Hadoop, and Hive, driving actionable insights. Ingested clickstream data into Hadoop HDFS via Kafka and batch booking data into AWS RDS with Sqoop, increasing data throughput by 15%. Aggregated data using Spark and stored results in Hive tables to generate customer metrics like ride counts, conversion rates, and service KPIs. '}, {'project_name': 'Spar Nord Bank ETL', 'start_date': None, 'end_date': None, 'description': 'Managed ETL for Spar Nord Bank’s transactional data from MySQL RDS to Amazon Redshift with Apache Sqoop, PySpark, S3, and Redshift. Conducted analysis on Redshift to identify usage patterns, optimizing ATM refilling and reducing refills by 20%. '}], 'education': [{'course': 'Master of Science in Data Analytics', 'institution': 'San Jose State University, California, USA', 'start_date': None, 'end_date': None}, {'course': 'PG Diploma in Data Science Specialization in Data Engineering', 'institution': 'IIIT, Bengaluru, India', 'start_date': None, 'end_date': None}, {'course': 'Bachelor’s in Computer Science', 'institution': 'VTU, Bengaluru, India', 'start_date': None, 'end_date': None}]}\n"
     ]
    }
   ],
   "source": [
    "print(details)"
   ]
  },
  {
   "cell_type": "code",
   "execution_count": 114,
   "metadata": {},
   "outputs": [
    {
     "name": "stdout",
     "output_type": "stream",
     "text": [
      "Shashank Shashishekhar Reddy\n",
      "San Jose, California\n",
      "shashankshashishekharreddy@gmail.com\n",
      "(510) 892-7191\n",
      "Data Engineer with hands-on experience with designing, developing and maintaining Extract, Transform and Load (ETL) pipelines coming from diverse data sources, and creating dashboards tailored to end-user or team requirements, facilitating data-driven decision-making, and ensuring proficiency in version control and data lifecycle management.\n",
      "[{'company': 'Data Engineer', 'role': 'Kantar', 'start_date': None, 'end_date': None, 'description': 'Built data pipelines with Apache Airflow and Spark to collect ads and sales data, storing it in an Amazon S3 data lake. Used Apache Spark for data transformation and enrichment, ensuring reliability with schema validation and error handling. Implemented data quality checks to maintain integrity throughout ingestion, transformation, and storage phases. Performed EDA and created visualizations in Tableau and Excel to identify patterns, boosting holiday sales by 12%. Designed ROI models to increase sales by 34% by optimizing ad spend on high-performing channels. Mentored two junior team members, improving team productivity and meeting deadlines with positive stakeholder feedback. '}, {'company': 'Data Engineer', 'role': 'The Sparks Foundation', 'start_date': None, 'end_date': None, 'description': 'Engineered robust ETL pipelines to manage and process large volumes of data from multiple sources, enhancing data integration by 25%. Collaborated with cross-functional teams to optimize database performance, reducing data retrieval times by 30%. Designed and implemented data quality checks to ensure accuracy and reliability, significantly minimizing data discrepancies. Automated data transformation processes using Python and SQL, decreasing manual intervention by 40%. Developed dashboards and visualizations to track data metrics, providing real-time insights for stakeholders. '}, {'company': 'Data Engineer Intern', 'role': 'The Sparks Foundation', 'start_date': None, 'end_date': None, 'description': 'Supported the development of ETL processes, contributing to the seamless integration of new data sources. Conducted data analysis to identify patterns and trends, informing decision-making across departments. Assisted in optimizing SQL queries to improve data extraction efficiency, achieving a 20% reduction in processing time. Created scripts for automated data cleaning, enhancing data quality and accuracy. '}]\n",
      "Certificates: AWS Cloud Practitioner | Validation Code: QD8E074C82EQ1WCE Programming Languages: C, C++, Java, Python, R, SQL, Bash, JavaScript Cloud Services: AWS (EC2, S3, Lambda, Glue, Amazon S3, Amazon Redshift), GCP, Azure Databases: MySQL, MongoDB, PostgreSQL, RDS, Elasticsearch. Tools: Hadoop, Sqoop, Hive, PySpark, Flume, Airflow, Kafka, Pandas, Scikit-Learn, Keras, PyTorch, Docker, Terraform.\n",
      "[{'project_name': 'Your Own Cabs Analysis', 'start_date': None, 'end_date': None, 'description': 'Built data pipelines to analyze booking and clickstream data using Kafka, Spark, Hadoop, and Hive, driving actionable insights. Ingested clickstream data into Hadoop HDFS via Kafka and batch booking data into AWS RDS with Sqoop, increasing data throughput by 15%. Aggregated data using Spark and stored results in Hive tables to generate customer metrics like ride counts, conversion rates, and service KPIs. '}, {'project_name': 'Spar Nord Bank ETL', 'start_date': None, 'end_date': None, 'description': 'Managed ETL for Spar Nord Bank’s transactional data from MySQL RDS to Amazon Redshift with Apache Sqoop, PySpark, S3, and Redshift. Conducted analysis on Redshift to identify usage patterns, optimizing ATM refilling and reducing refills by 20%. '}]\n",
      "[{'course': 'Master of Science in Data Analytics', 'institution': 'San Jose State University, California, USA', 'start_date': None, 'end_date': None}, {'course': 'PG Diploma in Data Science Specialization in Data Engineering', 'institution': 'IIIT, Bengaluru, India', 'start_date': None, 'end_date': None}, {'course': 'Bachelor’s in Computer Science', 'institution': 'VTU, Bengaluru, India', 'start_date': None, 'end_date': None}]\n"
     ]
    }
   ],
   "source": [
    "for key in details.keys():\n",
    "    print(details[key])"
   ]
  },
  {
   "cell_type": "code",
   "execution_count": 49,
   "metadata": {},
   "outputs": [
    {
     "data": {
      "text/plain": [
       "[]"
      ]
     },
     "execution_count": 49,
     "metadata": {},
     "output_type": "execute_result"
    }
   ],
   "source": [
    "details['education']"
   ]
  },
  {
   "cell_type": "code",
   "execution_count": 17,
   "metadata": {},
   "outputs": [
    {
     "data": {
      "text/plain": [
       "dict_keys(['name', 'location', 'email', 'phone', 'summary', 'work_experience', 'skills', 'projects', 'education'])"
      ]
     },
     "execution_count": 17,
     "metadata": {},
     "output_type": "execute_result"
    }
   ],
   "source": [
    "details.keys()"
   ]
  },
  {
   "cell_type": "code",
   "execution_count": null,
   "metadata": {},
   "outputs": [],
   "source": []
  },
  {
   "cell_type": "code",
   "execution_count": null,
   "metadata": {},
   "outputs": [],
   "source": []
  },
  {
   "cell_type": "code",
   "execution_count": null,
   "metadata": {},
   "outputs": [
    {
     "data": {
      "text/plain": [
       "'/Users/reddy/Documents/GitHub/ResumeBuilder/workingfiles/database/mydb1'"
      ]
     },
     "execution_count": 5,
     "metadata": {},
     "output_type": "execute_result"
    }
   ],
   "source": [
    "import os\n",
    "\n",
    "os.path.abspath('..//mydb1')"
   ]
  },
  {
   "cell_type": "code",
   "execution_count": null,
   "metadata": {},
   "outputs": [],
   "source": [
    "import sqlite3\n",
    "con = sqlite3.connect(\"/Users/reddy/Documents/GitHub/ResumeBuilder/ResumeBuilder/dbs/ResumeBuilder.db\")\n",
    "con.execute('PRAGMA foreign_keys = ON;')\n",
    "cur = con.cursor()"
   ]
  },
  {
   "cell_type": "code",
   "execution_count": 13,
   "metadata": {},
   "outputs": [
    {
     "data": {
      "text/plain": [
       "<sqlite3.Cursor at 0x107b0e1c0>"
      ]
     },
     "execution_count": 13,
     "metadata": {},
     "output_type": "execute_result"
    }
   ],
   "source": [
    "cur.execute(\"\"\"CREATE TABLE IF NOT EXISTS user (\n",
    "                email_id VARCHAR(255) PRIMARY KEY,\n",
    "                name VARCHAR(255),\n",
    "                user_location VARCHAR(255),\n",
    "                linkedin_link VARCHAR(255),\n",
    "                phone VARCHAR(20),\n",
    "                summary TEXT,\n",
    "                skills TEXT);\n",
    "            \"\"\")\n",
    "\n",
    "cur.execute(\"\"\"CREATE TABLE IF NOT EXISTS work (\n",
    "                work_exp_id INTEGER PRIMARY KEY,\n",
    "                company VARCHAR(255),\n",
    "                role VARCHAR(255),\n",
    "                work_location VARCHAR(255),\n",
    "                work_start_date DATE,\n",
    "                work_end_date DATE,\n",
    "                work_description TEXT,\n",
    "                user_id VARCHAR(255),\n",
    "                FOREIGN KEY(user_id) REFERENCES user(email_id) ON DELETE CASCADE);\n",
    "            \"\"\")\n",
    "\n",
    "cur.execute(\"\"\"CREATE TABLE IF NOT EXISTS project (\n",
    "                project_id INTEGER PRIMARY KEY,\n",
    "                project_name VARCHAR(255),\n",
    "                project_link VARCHAR(255),\n",
    "                project_start_date DATE,\n",
    "                project_end_date DATE,\n",
    "                project_description TEXT,\n",
    "                user_id VARCHAR(255),\n",
    "                FOREIGN KEY(user_id) REFERENCES user(email_id) ON DELETE CASCADE);\n",
    "            \"\"\")\n",
    "\n",
    "cur.execute(\"\"\"CREATE TABLE IF NOT EXISTS education (\n",
    "                education_id INTEGER PRIMARY KEY,\n",
    "                institution_name VARCHAR(255),\n",
    "                course VARCHAR(255),\n",
    "                education_start_date DATE,\n",
    "                education_end_date DATE,\n",
    "                user_id VARCHAR(255),\n",
    "                FOREIGN KEY(user_id) REFERENCES user(email_id) ON DELETE CASCADE);\n",
    "            \"\"\")\n",
    "\n",
    "cur.execute(\"\"\"CREATE TABLE IF NOT EXISTS jobs (\n",
    "                job_id INTEGER PRIMARY KEY,\n",
    "                job_link VARCHAR(255),\n",
    "                job_description TEXT,\n",
    "                hiring_manager_fn VARCHAR(255),\n",
    "                hiring_manager_ln VARCHAR(255),\n",
    "                generated_questions TEXT,\n",
    "                chatgpt_checkpoint TEXT,\n",
    "                user_id VARCHAR(255),\n",
    "                FOREIGN KEY(user_id) REFERENCES user(email_id) ON DELETE CASCADE);\n",
    "            \"\"\")"
   ]
  },
  {
   "cell_type": "code",
   "execution_count": null,
   "metadata": {},
   "outputs": [
    {
     "data": {
      "text/plain": [
       "[('user',),\n",
       " ('sqlite_autoindex_user_1',),\n",
       " ('work',),\n",
       " ('project',),\n",
       " ('education',),\n",
       " ('jobs',)]"
      ]
     },
     "execution_count": 16,
     "metadata": {},
     "output_type": "execute_result"
    }
   ],
   "source": [
    "res = cur.execute(\"SELECT name FROM sqlite_master\")\n",
    "res.fetchall()"
   ]
  },
  {
   "cell_type": "code",
   "execution_count": null,
   "metadata": {},
   "outputs": [],
   "source": [
    "user_email_id, user_name, user_city = '', '', ''\n",
    "user_linkedin_link, user_phone,  = '', ''\n",
    "summary, skills = '', ''\n",
    "\n",
    "cur.execute(f\"\"\"INSERT INTO \n",
    "                user (email_id, name, user_location, \n",
    "                        linkedin_link, phone, summary, skills)\n",
    "                    VALUES ({user_email_id}, {user_name}, '{user_city}', \n",
    "                            {user_linkedin_link}, {user_phone}, \n",
    "                            {summary}, {skills});\n",
    "            \"\"\")"
   ]
  },
  {
   "cell_type": "code",
   "execution_count": null,
   "metadata": {},
   "outputs": [],
   "source": []
  },
  {
   "cell_type": "code",
   "execution_count": null,
   "metadata": {},
   "outputs": [],
   "source": []
  },
  {
   "cell_type": "code",
   "execution_count": null,
   "metadata": {},
   "outputs": [],
   "source": []
  },
  {
   "cell_type": "code",
   "execution_count": null,
   "metadata": {},
   "outputs": [],
   "source": []
  }
 ],
 "metadata": {
  "kernelspec": {
   "display_name": ".ResumeBuilder",
   "language": "python",
   "name": "python3"
  },
  "language_info": {
   "codemirror_mode": {
    "name": "ipython",
    "version": 3
   },
   "file_extension": ".py",
   "mimetype": "text/x-python",
   "name": "python",
   "nbconvert_exporter": "python",
   "pygments_lexer": "ipython3",
   "version": "3.13.1"
  }
 },
 "nbformat": 4,
 "nbformat_minor": 2
}
