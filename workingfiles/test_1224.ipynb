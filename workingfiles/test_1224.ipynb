{
 "cells": [
  {
   "cell_type": "code",
   "execution_count": 30,
   "metadata": {},
   "outputs": [],
   "source": [
    "\n",
    "url = \"https://www.linkedin.com/company/credigy/people/?keywords=talent\""
   ]
  },
  {
   "cell_type": "code",
   "execution_count": 36,
   "metadata": {},
   "outputs": [
    {
     "ename": "NoSuchElementException",
     "evalue": "Message: no such element: Unable to locate element: {\"method\":\"xpath\",\"selector\":\"//div[@class=\"scaffold-finite-scroll__content\"]\"}\n  (Session info: chrome=131.0.6778.205); For documentation on this error, please visit: https://www.selenium.dev/documentation/webdriver/troubleshooting/errors#no-such-element-exception\nStacktrace:\n0   chromedriver                        0x000000010102b184 cxxbridge1$str$ptr + 3626716\n1   chromedriver                        0x00000001010239d4 cxxbridge1$str$ptr + 3596076\n2   chromedriver                        0x0000000100a90968 cxxbridge1$string$len + 89228\n3   chromedriver                        0x0000000100ad4d50 cxxbridge1$string$len + 368756\n4   chromedriver                        0x0000000100b0e5b4 cxxbridge1$string$len + 604376\n5   chromedriver                        0x0000000100ac9568 cxxbridge1$string$len + 321676\n6   chromedriver                        0x0000000100aca1b8 cxxbridge1$string$len + 324828\n7   chromedriver                        0x0000000100ff69ac cxxbridge1$str$ptr + 3411716\n8   chromedriver                        0x0000000100ff9ccc cxxbridge1$str$ptr + 3424804\n9   chromedriver                        0x0000000100fdd86c cxxbridge1$str$ptr + 3308996\n10  chromedriver                        0x0000000100ffa58c cxxbridge1$str$ptr + 3427044\n11  chromedriver                        0x0000000100fcf09c cxxbridge1$str$ptr + 3249652\n12  chromedriver                        0x00000001010144b8 cxxbridge1$str$ptr + 3533328\n13  chromedriver                        0x0000000101014634 cxxbridge1$str$ptr + 3533708\n14  chromedriver                        0x0000000101023648 cxxbridge1$str$ptr + 3595168\n15  libsystem_pthread.dylib             0x000000019fe672e4 _pthread_start + 136\n16  libsystem_pthread.dylib             0x000000019fe620fc thread_start + 8\n",
     "output_type": "error",
     "traceback": [
      "\u001b[0;31m---------------------------------------------------------------------------\u001b[0m",
      "\u001b[0;31mNoSuchElementException\u001b[0m                    Traceback (most recent call last)",
      "Cell \u001b[0;32mIn[36], line 19\u001b[0m\n\u001b[1;32m     15\u001b[0m password\u001b[38;5;241m.\u001b[39msend_keys(\u001b[38;5;124m\"\u001b[39m\u001b[38;5;124mJobsearch25*\u001b[39m\u001b[38;5;124m\"\u001b[39m)\n\u001b[1;32m     17\u001b[0m driver\u001b[38;5;241m.\u001b[39mfind_element(By\u001b[38;5;241m.\u001b[39mXPATH, \u001b[38;5;124m'\u001b[39m\u001b[38;5;124m//button[@class=\u001b[39m\u001b[38;5;124m\"\u001b[39m\u001b[38;5;124mbtn__primary--large from__button--floating\u001b[39m\u001b[38;5;124m\"\u001b[39m\u001b[38;5;124m]\u001b[39m\u001b[38;5;124m'\u001b[39m)\u001b[38;5;241m.\u001b[39mclick()\n\u001b[0;32m---> 19\u001b[0m element \u001b[38;5;241m=\u001b[39m \u001b[43mdriver\u001b[49m\u001b[38;5;241;43m.\u001b[39;49m\u001b[43mfind_element\u001b[49m\u001b[43m(\u001b[49m\u001b[43mBy\u001b[49m\u001b[38;5;241;43m.\u001b[39;49m\u001b[43mXPATH\u001b[49m\u001b[43m,\u001b[49m\u001b[43m \u001b[49m\u001b[38;5;124;43m'\u001b[39;49m\u001b[38;5;124;43m//div[@class=\u001b[39;49m\u001b[38;5;124;43m\"\u001b[39;49m\u001b[38;5;124;43mscaffold-finite-scroll__content\u001b[39;49m\u001b[38;5;124;43m\"\u001b[39;49m\u001b[38;5;124;43m]\u001b[39;49m\u001b[38;5;124;43m'\u001b[39;49m\u001b[43m)\u001b[49m\n\u001b[1;32m     20\u001b[0m class_attribute \u001b[38;5;241m=\u001b[39m element\u001b[38;5;241m.\u001b[39mget_attribute(\u001b[38;5;124m\"\u001b[39m\u001b[38;5;124mclass\u001b[39m\u001b[38;5;124m\"\u001b[39m)\n\u001b[1;32m     21\u001b[0m \u001b[38;5;28mprint\u001b[39m(\u001b[38;5;124m\"\u001b[39m\u001b[38;5;124mClass attribute:\u001b[39m\u001b[38;5;124m\"\u001b[39m, class_attribute)\n",
      "File \u001b[0;32m~/Documents/GitHub/FastApply/.venv/lib/python3.10/site-packages/selenium/webdriver/remote/webdriver.py:770\u001b[0m, in \u001b[0;36mWebDriver.find_element\u001b[0;34m(self, by, value)\u001b[0m\n\u001b[1;32m    767\u001b[0m         \u001b[38;5;28;01mraise\u001b[39;00m NoSuchElementException(\u001b[38;5;124mf\u001b[39m\u001b[38;5;124m\"\u001b[39m\u001b[38;5;124mCannot locate relative element with: \u001b[39m\u001b[38;5;132;01m{\u001b[39;00mby\u001b[38;5;241m.\u001b[39mroot\u001b[38;5;132;01m}\u001b[39;00m\u001b[38;5;124m\"\u001b[39m)\n\u001b[1;32m    768\u001b[0m     \u001b[38;5;28;01mreturn\u001b[39;00m elements[\u001b[38;5;241m0\u001b[39m]\n\u001b[0;32m--> 770\u001b[0m \u001b[38;5;28;01mreturn\u001b[39;00m \u001b[38;5;28;43mself\u001b[39;49m\u001b[38;5;241;43m.\u001b[39;49m\u001b[43mexecute\u001b[49m\u001b[43m(\u001b[49m\u001b[43mCommand\u001b[49m\u001b[38;5;241;43m.\u001b[39;49m\u001b[43mFIND_ELEMENT\u001b[49m\u001b[43m,\u001b[49m\u001b[43m \u001b[49m\u001b[43m{\u001b[49m\u001b[38;5;124;43m\"\u001b[39;49m\u001b[38;5;124;43musing\u001b[39;49m\u001b[38;5;124;43m\"\u001b[39;49m\u001b[43m:\u001b[49m\u001b[43m \u001b[49m\u001b[43mby\u001b[49m\u001b[43m,\u001b[49m\u001b[43m \u001b[49m\u001b[38;5;124;43m\"\u001b[39;49m\u001b[38;5;124;43mvalue\u001b[39;49m\u001b[38;5;124;43m\"\u001b[39;49m\u001b[43m:\u001b[49m\u001b[43m \u001b[49m\u001b[43mvalue\u001b[49m\u001b[43m}\u001b[49m\u001b[43m)\u001b[49m[\u001b[38;5;124m\"\u001b[39m\u001b[38;5;124mvalue\u001b[39m\u001b[38;5;124m\"\u001b[39m]\n",
      "File \u001b[0;32m~/Documents/GitHub/FastApply/.venv/lib/python3.10/site-packages/selenium/webdriver/remote/webdriver.py:384\u001b[0m, in \u001b[0;36mWebDriver.execute\u001b[0;34m(self, driver_command, params)\u001b[0m\n\u001b[1;32m    382\u001b[0m response \u001b[38;5;241m=\u001b[39m \u001b[38;5;28mself\u001b[39m\u001b[38;5;241m.\u001b[39mcommand_executor\u001b[38;5;241m.\u001b[39mexecute(driver_command, params)\n\u001b[1;32m    383\u001b[0m \u001b[38;5;28;01mif\u001b[39;00m response:\n\u001b[0;32m--> 384\u001b[0m     \u001b[38;5;28;43mself\u001b[39;49m\u001b[38;5;241;43m.\u001b[39;49m\u001b[43merror_handler\u001b[49m\u001b[38;5;241;43m.\u001b[39;49m\u001b[43mcheck_response\u001b[49m\u001b[43m(\u001b[49m\u001b[43mresponse\u001b[49m\u001b[43m)\u001b[49m\n\u001b[1;32m    385\u001b[0m     response[\u001b[38;5;124m\"\u001b[39m\u001b[38;5;124mvalue\u001b[39m\u001b[38;5;124m\"\u001b[39m] \u001b[38;5;241m=\u001b[39m \u001b[38;5;28mself\u001b[39m\u001b[38;5;241m.\u001b[39m_unwrap_value(response\u001b[38;5;241m.\u001b[39mget(\u001b[38;5;124m\"\u001b[39m\u001b[38;5;124mvalue\u001b[39m\u001b[38;5;124m\"\u001b[39m, \u001b[38;5;28;01mNone\u001b[39;00m))\n\u001b[1;32m    386\u001b[0m     \u001b[38;5;28;01mreturn\u001b[39;00m response\n",
      "File \u001b[0;32m~/Documents/GitHub/FastApply/.venv/lib/python3.10/site-packages/selenium/webdriver/remote/errorhandler.py:232\u001b[0m, in \u001b[0;36mErrorHandler.check_response\u001b[0;34m(self, response)\u001b[0m\n\u001b[1;32m    230\u001b[0m         alert_text \u001b[38;5;241m=\u001b[39m value[\u001b[38;5;124m\"\u001b[39m\u001b[38;5;124malert\u001b[39m\u001b[38;5;124m\"\u001b[39m]\u001b[38;5;241m.\u001b[39mget(\u001b[38;5;124m\"\u001b[39m\u001b[38;5;124mtext\u001b[39m\u001b[38;5;124m\"\u001b[39m)\n\u001b[1;32m    231\u001b[0m     \u001b[38;5;28;01mraise\u001b[39;00m exception_class(message, screen, stacktrace, alert_text)  \u001b[38;5;66;03m# type: ignore[call-arg]  # mypy is not smart enough here\u001b[39;00m\n\u001b[0;32m--> 232\u001b[0m \u001b[38;5;28;01mraise\u001b[39;00m exception_class(message, screen, stacktrace)\n",
      "\u001b[0;31mNoSuchElementException\u001b[0m: Message: no such element: Unable to locate element: {\"method\":\"xpath\",\"selector\":\"//div[@class=\"scaffold-finite-scroll__content\"]\"}\n  (Session info: chrome=131.0.6778.205); For documentation on this error, please visit: https://www.selenium.dev/documentation/webdriver/troubleshooting/errors#no-such-element-exception\nStacktrace:\n0   chromedriver                        0x000000010102b184 cxxbridge1$str$ptr + 3626716\n1   chromedriver                        0x00000001010239d4 cxxbridge1$str$ptr + 3596076\n2   chromedriver                        0x0000000100a90968 cxxbridge1$string$len + 89228\n3   chromedriver                        0x0000000100ad4d50 cxxbridge1$string$len + 368756\n4   chromedriver                        0x0000000100b0e5b4 cxxbridge1$string$len + 604376\n5   chromedriver                        0x0000000100ac9568 cxxbridge1$string$len + 321676\n6   chromedriver                        0x0000000100aca1b8 cxxbridge1$string$len + 324828\n7   chromedriver                        0x0000000100ff69ac cxxbridge1$str$ptr + 3411716\n8   chromedriver                        0x0000000100ff9ccc cxxbridge1$str$ptr + 3424804\n9   chromedriver                        0x0000000100fdd86c cxxbridge1$str$ptr + 3308996\n10  chromedriver                        0x0000000100ffa58c cxxbridge1$str$ptr + 3427044\n11  chromedriver                        0x0000000100fcf09c cxxbridge1$str$ptr + 3249652\n12  chromedriver                        0x00000001010144b8 cxxbridge1$str$ptr + 3533328\n13  chromedriver                        0x0000000101014634 cxxbridge1$str$ptr + 3533708\n14  chromedriver                        0x0000000101023648 cxxbridge1$str$ptr + 3595168\n15  libsystem_pthread.dylib             0x000000019fe672e4 _pthread_start + 136\n16  libsystem_pthread.dylib             0x000000019fe620fc thread_start + 8\n"
     ]
    }
   ],
   "source": [
    "import os\n",
    "from selenium import webdriver\n",
    "from selenium.webdriver.common.by import By\n",
    "\n",
    "import pickle\n",
    "\n",
    "cookie_file = \"cookies.pkl\"\n",
    "driver = webdriver.Chrome()\n",
    "\n",
    "driver.get(url)\n",
    "username = driver.find_element(By.ID, \"username\")\n",
    "password = driver.find_element(By.ID, \"password\")\n",
    "\n",
    "username.send_keys(\"ankurrtiwariii@gmail.com\")\n",
    "password.send_keys(\"Jobsearch25*\")\n",
    "\n",
    "driver.find_element(By.XPATH, '//button[@class=\"btn__primary--large from__button--floating\"]').click()\n",
    "\n",
    "element = driver.find_element(By.XPATH, '//div[@class=\"scaffold-finite-scroll__content\"]')\n",
    "class_attribute = element.get_attribute(\"class\")\n",
    "print(\"Class attribute:\", class_attribute)\n",
    "\n",
    "# peopleprofile = driver.find_element(By.XPATH, '//div[@class=\"scaffold-finite-scroll__content\"]/@class')\n",
    "\n",
    "# peopleurls = peopleprofile.find_element(By.TAG_NAME, 'ul')\n",
    "\n",
    "# print(peopleprofile)"
   ]
  },
  {
   "cell_type": "code",
   "execution_count": 4,
   "metadata": {},
   "outputs": [],
   "source": [
    "def replace_env(file, key, value):\n",
    "    with open(file, \"r\") as f:\n",
    "        lines = f.readlines()\n",
    "    index=[i for i, line in enumerate(lines) if line.startswith(key)]\n",
    "    lines[index[0]]=f\"{key}={str(value)}\\n\"\n",
    "    with open(file, \"w\") as f:\n",
    "        f.writelines(lines)"
   ]
  },
  {
   "cell_type": "code",
   "execution_count": 5,
   "metadata": {},
   "outputs": [
    {
     "data": {
      "text/plain": [
       "1"
      ]
     },
     "execution_count": 5,
     "metadata": {},
     "output_type": "execute_result"
    }
   ],
   "source": [
    "import os\n",
    "from dotenv import load_dotenv\n",
    "\n",
    "load_dotenv()\n",
    "\n",
    "int(os.getenv(\"APIRUN1\"))"
   ]
  },
  {
   "cell_type": "code",
   "execution_count": null,
   "metadata": {},
   "outputs": [],
   "source": []
  }
 ],
 "metadata": {
  "kernelspec": {
   "display_name": ".venv",
   "language": "python",
   "name": "python3"
  },
  "language_info": {
   "codemirror_mode": {
    "name": "ipython",
    "version": 3
   },
   "file_extension": ".py",
   "mimetype": "text/x-python",
   "name": "python",
   "nbconvert_exporter": "python",
   "pygments_lexer": "ipython3",
   "version": "3.10.16"
  }
 },
 "nbformat": 4,
 "nbformat_minor": 2
}
